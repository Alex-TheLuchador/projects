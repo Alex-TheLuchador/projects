{
 "cells": [
  {
   "cell_type": "markdown",
   "id": "b3568051",
   "metadata": {},
   "source": [
    "# Basic ETL Workflow Example with CoinGecko Data\n",
    "\n",
    "This notebook demonstrates a simple ETL (Extract, Transform, Load) process using the CoinGecko API:\n",
    "\n",
    "- **Extract:** Download the top 5 cryptocurrencies by market cap.\n",
    "    - In this phase, we set the URL and specify the parameters, which influence how our data is returned.\n",
    "- **Transform:** Clean and select relevant columns for analysis.\n",
    "- **Load:** Save the processed data to a CSV file for further use.\n",
    "\n",
    "This workflow is a common pattern in data engineering for ingesting and preparing external data.\n",
    "\n",
    "## Concepts Introduced\n",
    "- **DataFrame**\n",
    "    - A DataFrame is tabular data format commonly used in data processing with Python via the Pandas library.\n",
    "- **Normalizing**\n",
    "    - Normalizing in this context refers to converting complex or nested data (like JSON) into a flat table format (DataFrame) so it's easier to work with. More generally, it means to make data more consistent or easier to work with."
   ]
  },
  {
   "cell_type": "markdown",
   "id": "998a5a19",
   "metadata": {},
   "source": [
    "### Extract"
   ]
  },
  {
   "cell_type": "code",
   "execution_count": 1,
   "id": "578ccae2",
   "metadata": {},
   "outputs": [],
   "source": [
    "# Extract\n",
    "import requests\n",
    "\n",
    "#  Get top 5 cryptocurrencies by market cap from CoinGecko\n",
    "url = f\"https://api.coingecko.com/api/v3/coins/markets\"\n",
    "params = {\n",
    "    \"vs_currency\": \"usd\",\n",
    "    \"order\": \"market_cap_desc\",\n",
    "    \"per_page\": 5,\n",
    "    \"page\": 1,\n",
    "    \"sparkline\": False\n",
    "}\n",
    "response = requests.get(url, params=params)\n",
    "data = response.json()"
   ]
  },
  {
   "cell_type": "markdown",
   "id": "b1a8e0c9",
   "metadata": {},
   "source": [
    "### Transform"
   ]
  },
  {
   "cell_type": "code",
   "execution_count": 2,
   "id": "db3704fd",
   "metadata": {},
   "outputs": [
    {
     "data": {
      "text/html": [
       "<div>\n",
       "<style scoped>\n",
       "    .dataframe tbody tr th:only-of-type {\n",
       "        vertical-align: middle;\n",
       "    }\n",
       "\n",
       "    .dataframe tbody tr th {\n",
       "        vertical-align: top;\n",
       "    }\n",
       "\n",
       "    .dataframe thead th {\n",
       "        text-align: right;\n",
       "    }\n",
       "</style>\n",
       "<table border=\"1\" class=\"dataframe\">\n",
       "  <thead>\n",
       "    <tr style=\"text-align: right;\">\n",
       "      <th></th>\n",
       "      <th>id</th>\n",
       "      <th>symbol</th>\n",
       "      <th>name</th>\n",
       "      <th>current_price</th>\n",
       "      <th>market_cap</th>\n",
       "      <th>total_volume</th>\n",
       "    </tr>\n",
       "  </thead>\n",
       "  <tbody>\n",
       "    <tr>\n",
       "      <th>0</th>\n",
       "      <td>bitcoin</td>\n",
       "      <td>btc</td>\n",
       "      <td>Bitcoin</td>\n",
       "      <td>107015.00</td>\n",
       "      <td>2127962538117</td>\n",
       "      <td>23800722336</td>\n",
       "    </tr>\n",
       "    <tr>\n",
       "      <th>1</th>\n",
       "      <td>ethereum</td>\n",
       "      <td>eth</td>\n",
       "      <td>Ethereum</td>\n",
       "      <td>2409.66</td>\n",
       "      <td>290679990723</td>\n",
       "      <td>12990101448</td>\n",
       "    </tr>\n",
       "    <tr>\n",
       "      <th>2</th>\n",
       "      <td>tether</td>\n",
       "      <td>usdt</td>\n",
       "      <td>Tether</td>\n",
       "      <td>1.00</td>\n",
       "      <td>157258177785</td>\n",
       "      <td>42373100460</td>\n",
       "    </tr>\n",
       "    <tr>\n",
       "      <th>3</th>\n",
       "      <td>ripple</td>\n",
       "      <td>xrp</td>\n",
       "      <td>XRP</td>\n",
       "      <td>2.12</td>\n",
       "      <td>124775929668</td>\n",
       "      <td>2823262199</td>\n",
       "    </tr>\n",
       "    <tr>\n",
       "      <th>4</th>\n",
       "      <td>binancecoin</td>\n",
       "      <td>bnb</td>\n",
       "      <td>BNB</td>\n",
       "      <td>644.07</td>\n",
       "      <td>93944495799</td>\n",
       "      <td>620601639</td>\n",
       "    </tr>\n",
       "  </tbody>\n",
       "</table>\n",
       "</div>"
      ],
      "text/plain": [
       "            id symbol      name  current_price     market_cap  total_volume\n",
       "0      bitcoin    btc   Bitcoin      107015.00  2127962538117   23800722336\n",
       "1     ethereum    eth  Ethereum        2409.66   290679990723   12990101448\n",
       "2       tether   usdt    Tether           1.00   157258177785   42373100460\n",
       "3       ripple    xrp       XRP           2.12   124775929668    2823262199\n",
       "4  binancecoin    bnb       BNB         644.07    93944495799     620601639"
      ]
     },
     "execution_count": 2,
     "metadata": {},
     "output_type": "execute_result"
    }
   ],
   "source": [
    "# Transform\n",
    "import pandas as pd\n",
    "\n",
    "# Normalize and select relevant columns\n",
    "if data:\n",
    "\n",
    "    # Normalize JSON response into a DataFrame\n",
    "    df = pd.json_normalize(data)\n",
    "\n",
    "    # Select relevant columns\n",
    "    df = df[[\"id\", \"symbol\", \"name\", \"current_price\", \"market_cap\", \"total_volume\"]]\n",
    "    \n",
    "    # Remove rows with NaN values\n",
    "    df = df.dropna()\n",
    "else:\n",
    "    df = pd.DataFrame()\n",
    "\n",
    "# Convert DataFrame to a list of dictionaries\n",
    "flattened_data = df.to_dict(orient=\"records\")\n",
    "\n",
    "# Display the first 5 rows of the DataFrame\n",
    "df.head()"
   ]
  },
  {
   "cell_type": "markdown",
   "id": "5eac6428",
   "metadata": {},
   "source": [
    "### Load"
   ]
  },
  {
   "cell_type": "code",
   "execution_count": 3,
   "id": "8c47166b",
   "metadata": {},
   "outputs": [
    {
     "name": "stdout",
     "output_type": "stream",
     "text": [
      "Saved top 5 cryptocurrencies data to top_5_cryptos.csv\n"
     ]
    }
   ],
   "source": [
    "# Load\n",
    "# For demonstration, save the transformed data to a CSV file\n",
    "output_path = \"top_5_cryptos.csv\"\n",
    "df.to_csv(output_path, index=False)\n",
    "print(f\"Saved top 5 cryptocurrencies data to {output_path}\")"
   ]
  },
  {
   "cell_type": "markdown",
   "id": "aa959b91",
   "metadata": {},
   "source": [
    "### Load with SQLite"
   ]
  },
  {
   "cell_type": "code",
   "execution_count": 4,
   "id": "73853748",
   "metadata": {},
   "outputs": [
    {
     "data": {
      "text/html": [
       "<div>\n",
       "<style scoped>\n",
       "    .dataframe tbody tr th:only-of-type {\n",
       "        vertical-align: middle;\n",
       "    }\n",
       "\n",
       "    .dataframe tbody tr th {\n",
       "        vertical-align: top;\n",
       "    }\n",
       "\n",
       "    .dataframe thead th {\n",
       "        text-align: right;\n",
       "    }\n",
       "</style>\n",
       "<table border=\"1\" class=\"dataframe\">\n",
       "  <thead>\n",
       "    <tr style=\"text-align: right;\">\n",
       "      <th></th>\n",
       "      <th>id</th>\n",
       "      <th>symbol</th>\n",
       "      <th>name</th>\n",
       "      <th>current_price</th>\n",
       "      <th>market_cap</th>\n",
       "      <th>total_volume</th>\n",
       "    </tr>\n",
       "  </thead>\n",
       "  <tbody>\n",
       "    <tr>\n",
       "      <th>0</th>\n",
       "      <td>bitcoin</td>\n",
       "      <td>btc</td>\n",
       "      <td>Bitcoin</td>\n",
       "      <td>107015.00</td>\n",
       "      <td>2127962538117</td>\n",
       "      <td>23800722336</td>\n",
       "    </tr>\n",
       "    <tr>\n",
       "      <th>1</th>\n",
       "      <td>ethereum</td>\n",
       "      <td>eth</td>\n",
       "      <td>Ethereum</td>\n",
       "      <td>2409.66</td>\n",
       "      <td>290679990723</td>\n",
       "      <td>12990101448</td>\n",
       "    </tr>\n",
       "    <tr>\n",
       "      <th>2</th>\n",
       "      <td>tether</td>\n",
       "      <td>usdt</td>\n",
       "      <td>Tether</td>\n",
       "      <td>1.00</td>\n",
       "      <td>157258177785</td>\n",
       "      <td>42373100460</td>\n",
       "    </tr>\n",
       "    <tr>\n",
       "      <th>3</th>\n",
       "      <td>ripple</td>\n",
       "      <td>xrp</td>\n",
       "      <td>XRP</td>\n",
       "      <td>2.12</td>\n",
       "      <td>124775929668</td>\n",
       "      <td>2823262199</td>\n",
       "    </tr>\n",
       "    <tr>\n",
       "      <th>4</th>\n",
       "      <td>binancecoin</td>\n",
       "      <td>bnb</td>\n",
       "      <td>BNB</td>\n",
       "      <td>644.07</td>\n",
       "      <td>93944495799</td>\n",
       "      <td>620601639</td>\n",
       "    </tr>\n",
       "  </tbody>\n",
       "</table>\n",
       "</div>"
      ],
      "text/plain": [
       "            id symbol      name  current_price     market_cap  total_volume\n",
       "0      bitcoin    btc   Bitcoin      107015.00  2127962538117   23800722336\n",
       "1     ethereum    eth  Ethereum        2409.66   290679990723   12990101448\n",
       "2       tether   usdt    Tether           1.00   157258177785   42373100460\n",
       "3       ripple    xrp       XRP           2.12   124775929668    2823262199\n",
       "4  binancecoin    bnb       BNB         644.07    93944495799     620601639"
      ]
     },
     "metadata": {},
     "output_type": "display_data"
    },
    {
     "name": "stdout",
     "output_type": "stream",
     "text": [
      "Saved top 5 cryptocurrencies data to the top_cryptos table in crypto_data.db\n"
     ]
    }
   ],
   "source": [
    "import sqlite3\n",
    "\n",
    "# Connect to SQLite database (or create it if it doesn't exist)\n",
    "conn = sqlite3.connect('crypto_data.db')\n",
    "\n",
    "# Save the DataFrame to a SQLite table\n",
    "df.to_sql('top_cryptos', conn, if_exists='replace', index=False)\n",
    "df_loaded = pd.read_sql('SELECT * FROM top_cryptos', conn)\n",
    "conn.close()\n",
    "\n",
    "# Display the DataFrame\n",
    "display(df_loaded)\n",
    "print('Saved top 5 cryptocurrencies data to the top_cryptos table in crypto_data.db')"
   ]
  }
 ],
 "metadata": {
  "kernelspec": {
   "display_name": "Python 3",
   "language": "python",
   "name": "python3"
  },
  "language_info": {
   "codemirror_mode": {
    "name": "ipython",
    "version": 3
   },
   "file_extension": ".py",
   "mimetype": "text/x-python",
   "name": "python",
   "nbconvert_exporter": "python",
   "pygments_lexer": "ipython3",
   "version": "3.12.10"
  }
 },
 "nbformat": 4,
 "nbformat_minor": 5
}
